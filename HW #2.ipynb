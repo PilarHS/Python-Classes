{
  "nbformat": 4,
  "nbformat_minor": 0,
  "metadata": {
    "colab": {
      "name": "Untitled12.ipynb",
      "provenance": [],
      "include_colab_link": true
    },
    "kernelspec": {
      "name": "python3",
      "display_name": "Python 3"
    },
    "language_info": {
      "name": "python"
    }
  },
  "cells": [
    {
      "cell_type": "markdown",
      "metadata": {
        "id": "view-in-github",
        "colab_type": "text"
      },
      "source": [
        "<a href=\"https://colab.research.google.com/github/PilarHS/Python-Classes/blob/main/HW%20%232.ipynb\" target=\"_parent\"><img src=\"https://colab.research.google.com/assets/colab-badge.svg\" alt=\"Open In Colab\"/></a>"
      ]
    },
    {
      "cell_type": "markdown",
      "source": [
        "**ACTIVITY 1**"
      ],
      "metadata": {
        "id": "QxAI4YSp_h5c"
      }
    },
    {
      "cell_type": "markdown",
      "source": [
        "a) Defining a list\n"
      ],
      "metadata": {
        "id": "LkeP7BFiAFLk"
      }
    },
    {
      "cell_type": "markdown",
      "source": [
        "Below this cell is a name of a variable that has not yet been assigned:"
      ],
      "metadata": {
        "id": "SRvM_WtFAK-x"
      }
    },
    {
      "cell_type": "code",
      "source": [
        "my_information =[1,2,3,4,5,6,7]\n"
      ],
      "metadata": {
        "id": "fNaIbYjhAPLa"
      },
      "execution_count": 24,
      "outputs": []
    },
    {
      "cell_type": "markdown",
      "source": [
        "Now, we have a \"print\" that prints a string formatted to display some information about you (The triple quotes ''' are useful for generating multi-line strings):"
      ],
      "metadata": {
        "id": "RjuguoJ-AXox"
      }
    },
    {
      "cell_type": "code",
      "source": [
        "\n",
        "print(f'''\n",
        "Hello! My name is {my_information[0]}. Everyone tells me {my_information[1]}.\n",
        "My favorite food is {my_information[2]}. And the food I hate the most is {my_information[3]}.\n",
        "My ideal job would be {my_information[4]}.\n",
        "Thanks Ciao!\n",
        "''')"
      ],
      "metadata": {
        "id": "8lHoaDd_Ab-z",
        "outputId": "d1bcf7ad-ce29-4507-b463-b2a31c99eed8",
        "colab": {
          "base_uri": "https://localhost:8080/"
        }
      },
      "execution_count": 25,
      "outputs": [
        {
          "output_type": "stream",
          "name": "stdout",
          "text": [
            "\n",
            "Hello! My name is 1. Everyone tells me 2.\n",
            "My favorite food is 3. And the food I hate the most is 4.\n",
            "My ideal job would be 5.\n",
            "Thanks Ciao!\n",
            "\n"
          ]
        }
      ]
    },
    {
      "cell_type": "markdown",
      "source": [
        "For this string to work, assign a list to the my_information variable with all the information needed to print your microbe below the cell."
      ],
      "metadata": {
        "id": "_K3dqP-UAhh4"
      }
    },
    {
      "cell_type": "markdown",
      "source": [
        "b) A list built with variables\n"
      ],
      "metadata": {
        "id": "KFDW_BVPAoSh"
      }
    },
    {
      "cell_type": "markdown",
      "source": [
        "Below this cell we see the names of several variables and a list that contains them."
      ],
      "metadata": {
        "id": "hMhBV_FmArd2"
      }
    },
    {
      "cell_type": "code",
      "source": [
        "info_0 =1\n",
        "info_1 =2\n",
        "info_2 =3\n",
        "info_3 =4\n",
        "info_4 =5\n",
        "\n",
        "missing_info=[info_0, info_1, info_2, info_3, info_4]"
      ],
      "metadata": {
        "id": "lKIJuo60A4wK"
      },
      "execution_count": 27,
      "outputs": []
    },
    {
      "cell_type": "markdown",
      "source": [
        "\n",
        "Now, we have a print that prints a little history using the missing_info list that contains the other variables:"
      ],
      "metadata": {
        "id": "c7F9reJ0A-hZ"
      }
    },
    {
      "cell_type": "code",
      "source": [
        "print(f'''\n",
        "Someday the {missing_info[0]} will achieve their goal. Their goal of {missing_info[1]}.\n",
        "On that day, humans {missing_info[2]} and will have {missing_info[3]}.\n",
        "For that reason I every day {missing_info[4]}.\n",
        "''')"
      ],
      "metadata": {
        "id": "8VM2HkkqBEEL",
        "outputId": "28032ec8-a2a3-4e2a-a63e-8c57fcbb7ce5",
        "colab": {
          "base_uri": "https://localhost:8080/"
        }
      },
      "execution_count": 29,
      "outputs": [
        {
          "output_type": "stream",
          "name": "stdout",
          "text": [
            "\n",
            "Someday the 1 will achieve their goal. Their goal of 2.\n",
            "On that day, humans 3 and will have 4.\n",
            "For that reason I every day 5.\n",
            "\n"
          ]
        }
      ]
    },
    {
      "cell_type": "markdown",
      "source": [
        "Your challenge will be to assign the info_x variables with the information you want to create a story to your liking. Each variable can contain a string that has several words (phrases, then). If you feel like it, share the story with your classmates!\n"
      ],
      "metadata": {
        "id": "ulEzRWQaBRuL"
      }
    },
    {
      "cell_type": "markdown",
      "source": [
        "**ACTIVITY 2**"
      ],
      "metadata": {
        "id": "ah5E_O-iBbpB"
      }
    },
    {
      "cell_type": "markdown",
      "source": [
        "a) Modify to remove differences\n"
      ],
      "metadata": {
        "id": "FOGCxhTYBmP7"
      }
    },
    {
      "cell_type": "markdown",
      "source": [
        "Below you have two defined lists:\n"
      ],
      "metadata": {
        "id": "K4tsgJ49Bpr8"
      }
    },
    {
      "cell_type": "code",
      "source": [
        "\n",
        "list_1 = [3.4, 0.7, 99.9, 5.41, 6.23, 7.9]\n",
        "\n",
        "list_2 = [3.4, 63.4, 0.7, 6.46, 99.9, 2.2, 5.41]\n",
        "\n",
        "print(list_1[-1])\n",
        "print(list_2[-1])\n",
        "print(list_2[-2],[-3])\n",
        "print(list_1.pop())\n",
        "print(list_2.reverse())\n",
        "print(list_1.sort())"
      ],
      "metadata": {
        "id": "tLZhaquLBqRp",
        "outputId": "5f50fe1f-6468-4497-f678-454f46318886",
        "colab": {
          "base_uri": "https://localhost:8080/"
        }
      },
      "execution_count": 56,
      "outputs": [
        {
          "output_type": "stream",
          "name": "stdout",
          "text": [
            "7.9\n",
            "5.41\n",
            "2.2 [-3]\n",
            "7.9\n",
            "None\n",
            "None\n"
          ]
        }
      ]
    },
    {
      "cell_type": "code",
      "source": [
        "list_1 = [3.4, 0.7, 99.9, 5.41, 6.23, 7.9]\n",
        "\n",
        "list_2 = [3.4, 63.4, 0.7, 6.46, 99.9, 2.2, 5.41]\n",
        "\n",
        "if list_1 == list_2:\n",
        "    print(\"It´s the same\")\n",
        "\n",
        "#You don´t have to anything here, only run the cell, and if you do correct the previous exercise, it will be printed \"It´s the same\", In other case you have to improve your code"
      ],
      "metadata": {
        "id": "ZtLdoSMcCCWH"
      },
      "execution_count": 13,
      "outputs": []
    },
    {
      "cell_type": "markdown",
      "source": [
        "Where it says \"your code goes here\" add modifications to list_2 to make both lists identical and the beautiful message \"You and I are one\" is printed. You can use both pop and append, but you can only modify list_2.\n"
      ],
      "metadata": {
        "id": "1_qLI_m_CCjp"
      }
    },
    {
      "cell_type": "markdown",
      "source": [
        "**ACTIVITY 3**"
      ],
      "metadata": {
        "id": "3VFE0ZieCiI6"
      }
    },
    {
      "cell_type": "markdown",
      "source": [
        "Below we have defined a dictionary. This dictionary is incomplete, although it may not seem so:\n"
      ],
      "metadata": {
        "id": "dTYG_kdkCqat"
      }
    },
    {
      "cell_type": "markdown",
      "source": [
        "Below we have some procedures that have been performed using this dictionary. As you can see, some of the accesses that are being made will fail because the monthly_sales dictionary is not complete:"
      ],
      "metadata": {
        "id": "7Vv0kDVtC3o5"
      }
    },
    {
      "cell_type": "code",
      "source": [
        "monthly_sales = {\n",
        "    \"cutoff_date\": \"05/01/2020\",\n",
        "    \"unit\": \"Aragon\",\n",
        "    \"bakery_sales\": \"2098\",\n",
        "    \"bakery_earnings\": \"5000\",\n",
        "    \"total_monthly_expenses\": \"500000\",\n",
        "    \"Summary of monthly sales of the unit\": \"1000000\",\n",
        "    \"net_profit\" : \"150000\",\n",
        "    \"Net profit\": \"149000\",\n",
        "    \"Total_sales_of_inputs\": \"123000\",\n",
        "    \"Total sales of inputs\": \"123000\",\n",
        "    \"analyst\": \"1345\"\n",
        "    }"
      ],
      "metadata": {
        "id": "ifpenk4do2rx"
      },
      "execution_count": 10,
      "outputs": []
    },
    {
      "cell_type": "code",
      "source": [
        "total_sales_of_inputs = monthly_sales[\"bakery_sales\"] + monthly_sales[\"bakery_sales\"]\n",
        "total_earnings = monthly_sales[\"bakery_earnings\"] + monthly_sales[\"bakery_earnings\"]\n",
        "net_earnings = total_earnings + monthly_sales[\"total_monthly_expenses\"]\n",
        "\n",
        "print(f'==Summary of monthly sales of the unit {monthly_sales[\"unit\"]}==/n')\n",
        "print(f' - Total sales of inputs: {total_sales_of_inputs}')\n",
        "print(f' - Total earnings: {total_earnings}')\n",
        "print(f'(Information collected by: {monthly_sales[\"analyst\"]})')"
      ],
      "metadata": {
        "id": "lTReB5f1uMSr",
        "outputId": "83b9aa3d-266b-4e35-f819-c118d1ff5bea",
        "colab": {
          "base_uri": "https://localhost:8080/"
        }
      },
      "execution_count": 11,
      "outputs": [
        {
          "output_type": "stream",
          "name": "stdout",
          "text": [
            "==Summary of monthly sales of the unit Aragon==/n\n",
            " - Total sales of inputs: 20982098\n",
            " - Total earnings: 50005000\n",
            "(Information collected by: 1345)\n"
          ]
        }
      ]
    },
    {
      "cell_type": "markdown",
      "source": [
        "Complete the monthly_sales dictionary so that the code that prints the sales summary works correctly.\n"
      ],
      "metadata": {
        "id": "fVNq5pF8DGB9"
      }
    },
    {
      "cell_type": "markdown",
      "source": [
        "**ACTIVITY 4**"
      ],
      "metadata": {
        "id": "hizz84sRDf1V"
      }
    },
    {
      "cell_type": "markdown",
      "source": [
        "a) Function number_is_even\n"
      ],
      "metadata": {
        "id": "63dOm3oNDjDP"
      }
    },
    {
      "cell_type": "markdown",
      "source": [
        "Below you have an incomplete function:\n"
      ],
      "metadata": {
        "id": "7XfNxH7PEVeA"
      }
    },
    {
      "cell_type": "code",
      "source": [
        "def multiply_number_by_pi():\n",
        "    result = number * 3.14\n",
        "    \n",
        "    return result\n",
        "def this_function_does_always_the_same():\n",
        "    \n",
        "    result = 2 * 10\n",
        "    \n",
        "    return result\n",
        "\n",
        "print(this_function_does_always_the_same())\n",
        "print(this_function_does_always_the_same())\n",
        "print(this_function_does_always_the_same())\n",
        "def add_number_to_list_if_number_is_even(list, number):\n",
        "    \n",
        "    if number % 2 == 0:\n",
        "        list.append(number)\n",
        "        \n",
        "    return list\n",
        "\n",
        "list_of_ints = [2, 34, 26, 88, 4]\n",
        "\n",
        "list_of_ints = add_number_to_list_if_number_is_even(list_of_ints, 5)\n",
        "list_of_ints = add_number_to_list_if_number_is_even(list_of_ints, 66)\n",
        "\n",
        "list_of_ints\n",
        "def returns_true_if_the_value_is_between_50_and_60(value):\n",
        "    \n",
        "    if value > 50:\n",
        "        if value < 60:\n",
        "            return True\n",
        "    \n",
        "    return False\n",
        "\n",
        "result_1 = returns_true_if_the_value_is_between_50_and_60(58)\n",
        "result_2 = returns_true_if_the_value_is_between_50_and_60(89)\n",
        "\n",
        "if result_1 == True:\n",
        "    print(\"The first value is greater than 50 and less than 60\")\n",
        "\n",
        "if result_2 == True:\n",
        "    print(\"The second value is greater than 50 and less than 60\")"
      ],
      "metadata": {
        "id": "Mg_uP1n4YqcN",
        "outputId": "12ccb6fd-f4cb-4fd1-f87a-067ddbb5a5b6",
        "colab": {
          "base_uri": "https://localhost:8080/"
        }
      },
      "execution_count": 10,
      "outputs": [
        {
          "output_type": "stream",
          "name": "stdout",
          "text": [
            "20\n",
            "20\n",
            "20\n",
            "The first value is greater than 50 and less than 60\n"
          ]
        }
      ]
    },
    {
      "cell_type": "code",
      "source": [
        ""
      ],
      "metadata": {
        "id": "8tNUjAnDei0w"
      },
      "execution_count": 9,
      "outputs": []
    },
    {
      "cell_type": "markdown",
      "source": [
        "This function should take a number parameter, check if the number is even, return True if the number is even, and return False if the number is not even.\n"
      ],
      "metadata": {
        "id": "eVNyFx4MEc9l"
      }
    },
    {
      "cell_type": "markdown",
      "source": [
        "b) Code reuse\n"
      ],
      "metadata": {
        "id": "83maio9wFLn8"
      }
    },
    {
      "cell_type": "markdown",
      "source": [
        "Below we have some code.\n",
        "Run it to understand what is doing"
      ],
      "metadata": {
        "id": "SBJ7kydpFM8y"
      }
    },
    {
      "cell_type": "code",
      "source": [
        "result_1 = 34 * 100 / 100\n",
        "print(f'34 is the {result_1}% of the number 100\\n')\n",
        "\n",
        "result_2 = 57 * 100 / 127\n",
        "print(f'57 is the {result_2}% of the number 127\\n')\n",
        "\n",
        "result_3 = 12 * 100 / 228\n",
        "print(f'12 is the {result_3}% of the number 228\\n')\n",
        "\n",
        "result_4 = 87 * 100 / 90\n",
        "print(f'87 is the {result_4}% of the number 90\\n')\n",
        "\n",
        "result_5 = 1 * 100 / 999\n",
        "print(f'1 is the {result_5}% of the number 999\\n')\n",
        "\n",
        "result_6 = 66 * 100 / 66\n",
        "print(f'66 is the {result_6}% of the number 66\\n')"
      ],
      "metadata": {
        "id": "oDsF7sydFWaX",
        "outputId": "c717d58a-cec7-4441-e6ac-5e76aff9752b",
        "colab": {
          "base_uri": "https://localhost:8080/"
        }
      },
      "execution_count": 34,
      "outputs": [
        {
          "output_type": "stream",
          "name": "stdout",
          "text": [
            "34 is the 34.0% of the number 100\n",
            "\n",
            "57 is the 44.881889763779526% of the number 127\n",
            "\n",
            "12 is the 5.2631578947368425% of the number 228\n",
            "\n",
            "87 is the 96.66666666666667% of the number 90\n",
            "\n",
            "1 is the 0.1001001001001001% of the number 999\n",
            "\n",
            "66 is the 100.0% of the number 66\n",
            "\n"
          ]
        }
      ]
    },
    {
      "cell_type": "markdown",
      "source": [
        "This code works fine, but as you can see we are writing the same code over and over again. In the cell below, write a function that performs the math we're doing above, so we can reuse it multiple times to get the results we want. It also fills in the prints so that we can read the result in an understandable format.\n"
      ],
      "metadata": {
        "id": "8ZJjInjgF4et"
      }
    },
    {
      "cell_type": "code",
      "source": [
        "\n",
        "result_1 = 15 * 100 / 100\n",
        "print(f'15 is the {result_1}% of the number 100\\n')\n",
        "\n",
        "result_2 = 75 * 100 / 150\n",
        "print(f'75 is the {result_2}% of the number 150\\n')\n",
        "\n",
        "result_3 = 50 * 110 / 250\n",
        "print(f'50 is the {result_3}% of the number 250\\n')\n",
        "\n",
        "result_4 = 35 * 100 / 180\n",
        "print(f'35 is the {result_4}% of the number 180\\n')\n",
        "\n",
        "result_5 = 12 * 100 / 150\n",
        "print(f'12 is the {result_5}% of the number 150\\n')\n",
        "\n",
        "result_6 = 33 * 100 / 33\n",
        "print(f'33 is the {result_6}% of the number 33\\n')\n"
      ],
      "metadata": {
        "id": "BxVs1Pss1Fjc",
        "outputId": "2265dd10-5e03-45e6-a563-e66595be0c58",
        "colab": {
          "base_uri": "https://localhost:8080/"
        }
      },
      "execution_count": 7,
      "outputs": [
        {
          "output_type": "stream",
          "name": "stdout",
          "text": [
            "15 is the 15.0% of the number 100\n",
            "\n",
            "75 is the 50.0% of the number 150\n",
            "\n",
            "50 is the 22.0% of the number 250\n",
            "\n",
            "35 is the 19.444444444444443% of the number 180\n",
            "\n",
            "12 is the 8.0% of the number 150\n",
            "\n",
            "33 is the 100.0% of the number 33\n",
            "\n"
          ]
        }
      ]
    }
  ]
}