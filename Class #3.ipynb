{
  "nbformat": 4,
  "nbformat_minor": 0,
  "metadata": {
    "colab": {
      "name": "Untitled13.ipynb",
      "provenance": []
    },
    "kernelspec": {
      "name": "python3",
      "display_name": "Python 3"
    },
    "language_info": {
      "name": "python"
    }
  },
  "cells": [
    {
      "cell_type": "markdown",
      "source": [
        "**LOOPS**"
      ],
      "metadata": {
        "id": "U_0gQLra4IF5"
      }
    },
    {
      "cell_type": "markdown",
      "source": [
        "In a programming language, a loop is a statement that contains instructions that continually repeats until a certain condition is reached.\n",
        "\n",
        "Loops help us remove the redundancy of code when a task has to be repeated several times. With the use of loops, we can cut short those hundred lines of code to a few. Suppose you want to print the text “Hello, World!” 10 times. Rather than writing a print statement 10 times, you can make use of loops by indicating the number of repetitions needed."
      ],
      "metadata": {
        "id": "KEldUeNT5BL-"
      }
    },
    {
      "cell_type": "markdown",
      "source": [
        "**IF / ELIF / ELSE STATEMENT**"
      ],
      "metadata": {
        "id": "UUCEVE9r5D6C"
      }
    },
    {
      "cell_type": "markdown",
      "source": [
        "We want to give our program the ability to make decisions. This can be done using an if statement. An if statement uses a comparison to get a boolean. If the boolean is True, the statement block is executed. If the boolean is False we skip to what follows after the block.\n"
      ],
      "metadata": {
        "id": "SKKhbLFf5XZd"
      }
    },
    {
      "cell_type": "code",
      "source": [
        "var_1 = 4\n",
        "var_2 = 5"
      ],
      "metadata": {
        "id": "g8OYsw9l5jkd"
      },
      "execution_count": 1,
      "outputs": []
    },
    {
      "cell_type": "code",
      "source": [
        "if var_1 < var_2:\n",
        "    print(\"The block has been run\")"
      ],
      "metadata": {
        "id": "q4eLVHik5mXQ",
        "outputId": "de264cae-182b-4f7c-9097-70e025358ff6",
        "colab": {
          "base_uri": "https://localhost:8080/"
        }
      },
      "execution_count": 2,
      "outputs": [
        {
          "output_type": "stream",
          "name": "stdout",
          "text": [
            "The block has been run\n"
          ]
        }
      ]
    },
    {
      "cell_type": "code",
      "source": [
        "\n",
        "if var_1 > var_2:\n",
        "    print(\"The block has been run\")\n",
        "    \n",
        "print(\"I'm outside the block, and they're going to call me anyway\")"
      ],
      "metadata": {
        "id": "a6NDoRCC5sKH",
        "outputId": "f9eb5988-81a7-40be-bfff-8d022249bc20",
        "colab": {
          "base_uri": "https://localhost:8080/"
        }
      },
      "execution_count": 3,
      "outputs": [
        {
          "output_type": "stream",
          "name": "stdout",
          "text": [
            "I'm outside the block, and they're going to call me anyway\n"
          ]
        }
      ]
    },
    {
      "cell_type": "markdown",
      "source": [
        "There are times that we want to have a default action, which we want to happen in case the comparison is False. For that we can use an else statement. Think of it like asking yourself, \"If I reach into my bag and find a $50 bill, I'll buy some nachos; if there's none, I'll watch the movie crying my eyes out.\"\n"
      ],
      "metadata": {
        "id": "At6Ufhal6FEk"
      }
    },
    {
      "cell_type": "markdown",
      "source": [
        "We implement the default action like this:\n"
      ],
      "metadata": {
        "id": "fIB5JT7X6JUL"
      }
    },
    {
      "cell_type": "code",
      "source": [
        "if var_1 > var_2:\n",
        "    print(\"The condition has been met\")\n",
        "else:\n",
        "    print(\"The condition has not been met, so I print\")"
      ],
      "metadata": {
        "id": "zy8PZ4WV6GPe",
        "outputId": "72243097-68d2-4d19-ed5b-ea7d52dec6dc",
        "colab": {
          "base_uri": "https://localhost:8080/"
        }
      },
      "execution_count": 4,
      "outputs": [
        {
          "output_type": "stream",
          "name": "stdout",
          "text": [
            "The condition has not been met, so I print\n"
          ]
        }
      ]
    },
    {
      "cell_type": "markdown",
      "source": [
        "If we want there to be more than two options, we can add options using the elif statement:\n"
      ],
      "metadata": {
        "id": "fGhD138t6Qdc"
      }
    },
    {
      "cell_type": "code",
      "source": [
        "if var_1 > var_2:\n",
        "    print(\"The first condition has been met\")\n",
        "elif var_1 < var_2:\n",
        "    print(\"The second condition has been met\")\n",
        "else:\n",
        "    print(\"The first two comparisons were False\")"
      ],
      "metadata": {
        "id": "FokWl7gN-R_f",
        "outputId": "a284614b-4585-4800-ef0f-d6c4ed1bb6e0",
        "colab": {
          "base_uri": "https://localhost:8080/"
        }
      },
      "execution_count": 5,
      "outputs": [
        {
          "output_type": "stream",
          "name": "stdout",
          "text": [
            "The second condition has been met\n"
          ]
        }
      ]
    },
    {
      "cell_type": "code",
      "source": [
        "'''In this program, \n",
        "we check if the number is positive or\n",
        "negative or zero and \n",
        "display an appropriate message'''\n",
        "\n",
        "num = 3.4\n",
        "\n",
        "# Try these two variations as well:\n",
        "# num = 0\n",
        "# num = -4.5\n",
        "\n",
        "if num > 0:\n",
        "    print(\"Positive number\")\n",
        "elif num == 0:\n",
        "    print(\"Zero\")\n",
        "else:\n",
        "    print(\"Negative number\")"
      ],
      "metadata": {
        "id": "selgSXIr-u_n",
        "outputId": "c43079c8-31b9-453b-e744-d3dd0513ccf8",
        "colab": {
          "base_uri": "https://localhost:8080/"
        }
      },
      "execution_count": 6,
      "outputs": [
        {
          "output_type": "stream",
          "name": "stdout",
          "text": [
            "Positive number\n"
          ]
        }
      ]
    },
    {
      "cell_type": "markdown",
      "source": [
        "Q1. Write a program to accept percentage from the user and display the grade according to the following criteria:\n",
        "\n",
        "         Marks                                    Grade\n",
        "         > 90                                         A\n",
        "         > 80 and <= 90                               B\n",
        "         >= 60 and <= 80                              C\n",
        "         below 60                                     D"
      ],
      "metadata": {
        "id": "HWH-BkTq_ky7"
      }
    },
    {
      "cell_type": "code",
      "source": [
        "    num = 60\n",
        "\n",
        "    if num > 90:\n",
        "       print(\"A\")\n",
        "    elif num > 80:\n",
        "       print(\"B\")\n",
        "    elif num > 60:\n",
        "       print(\"C\")\n",
        "    elif num == 60:\n",
        "       print(\"B\")\n",
        "    elif num <= 80:\n",
        "       print(\"C\")\n",
        "    elif num < 60:\n",
        "       print(\"D\")\n",
        "\n",
        "    else:\n",
        "       print(\"D\")\n"
      ],
      "metadata": {
        "id": "7s4JQqLu_ldq",
        "outputId": "c4e57a53-9138-4f67-f366-83407d7b3c67",
        "colab": {
          "base_uri": "https://localhost:8080/"
        }
      },
      "execution_count": 37,
      "outputs": [
        {
          "output_type": "stream",
          "name": "stdout",
          "text": [
            "B\n"
          ]
        }
      ]
    },
    {
      "cell_type": "markdown",
      "source": [
        "**FOR LOOPS**\n",
        "\n"
      ],
      "metadata": {
        "id": "tqH8JeG7_uiK"
      }
    },
    {
      "cell_type": "markdown",
      "source": [
        "For loops help us automate processes. Basically, we first define what we want to iterate over (or loop), then we define a variable (or variables) that will receive each value of the iteration, and then we have the for loop block, which is where we carry out the processes to be automated. See what they look like in action:\n"
      ],
      "metadata": {
        "id": "Py29I5t-AM76"
      }
    },
    {
      "cell_type": "code",
      "source": [
        "for i in range(0, 10):\n",
        "    print(i)\n"
      ],
      "metadata": {
        "id": "iPng1v-nAcFR",
        "outputId": "563a1d35-eb9b-4fac-cf97-eefe4651027a",
        "colab": {
          "base_uri": "https://localhost:8080/"
        }
      },
      "execution_count": 38,
      "outputs": [
        {
          "output_type": "stream",
          "name": "stdout",
          "text": [
            "0\n",
            "1\n",
            "2\n",
            "3\n",
            "4\n",
            "5\n",
            "6\n",
            "7\n",
            "8\n",
            "9\n"
          ]
        }
      ]
    },
    {
      "cell_type": "code",
      "source": [
        ""
      ],
      "metadata": {
        "id": "CKHbXOHcJ_rV"
      },
      "execution_count": null,
      "outputs": []
    },
    {
      "cell_type": "code",
      "source": [
        "list_of_numbers = []\n",
        "\n",
        "for i in range(0, 50):\n",
        "    list_of_numbers.append(i)\n",
        "    \n",
        "print(list_of_numbers)"
      ],
      "metadata": {
        "id": "WJjEgxwuAhzR",
        "outputId": "b068d1c9-cb4b-471d-e321-306e1e30ea87",
        "colab": {
          "base_uri": "https://localhost:8080/"
        }
      },
      "execution_count": 39,
      "outputs": [
        {
          "output_type": "stream",
          "name": "stdout",
          "text": [
            "[0, 1, 2, 3, 4, 5, 6, 7, 8, 9, 10, 11, 12, 13, 14, 15, 16, 17, 18, 19, 20, 21, 22, 23, 24, 25, 26, 27, 28, 29, 30, 31, 32, 33, 34, 35, 36, 37, 38, 39, 40, 41, 42, 43, 44, 45, 46, 47, 48, 49]\n"
          ]
        }
      ]
    },
    {
      "cell_type": "code",
      "source": [
        "number = 150\n",
        "\n",
        "for _ in range(0, 20):\n",
        "    \n",
        "    # this process is independent of the loop, so we don't use the loop variable\n",
        "    # in this case the loop is only used to perform a task repeatedly\n",
        "    \n",
        "    number = number + 1\n",
        "\n",
        "print(number)\n",
        "print(list_of_numbers)"
      ],
      "metadata": {
        "id": "aQAe8_j3An1A",
        "outputId": "17fa2ee0-aabe-4131-d165-3ed30a509669",
        "colab": {
          "base_uri": "https://localhost:8080/"
        }
      },
      "execution_count": 41,
      "outputs": [
        {
          "output_type": "stream",
          "name": "stdout",
          "text": [
            "170\n",
            "[0, 1, 2, 3, 4, 5, 6, 7, 8, 9, 10, 11, 12, 13, 14, 15, 16, 17, 18, 19, 20, 21, 22, 23, 24, 25, 26, 27, 28, 29, 30, 31, 32, 33, 34, 35, 36, 37, 38, 39, 40, 41, 42, 43, 44, 45, 46, 47, 48, 49]\n"
          ]
        }
      ]
    },
    {
      "cell_type": "code",
      "source": [
        " dict_1 = {\n",
        "    'a': 1,\n",
        "    'b': 2,\n",
        "    'c': 3,\n",
        "    'd': 4,\n",
        "    'e': 5\n",
        "}\n",
        "\n",
        "for key in dict_1:\n",
        "    print(dict_1[key])"
      ],
      "metadata": {
        "id": "O-OS3GNQAsxQ",
        "outputId": "0cba921d-cf04-4f88-a6d2-40643c6fea7b",
        "colab": {
          "base_uri": "https://localhost:8080/"
        }
      },
      "execution_count": 43,
      "outputs": [
        {
          "output_type": "stream",
          "name": "stdout",
          "text": [
            "1\n",
            "2\n",
            "3\n",
            "4\n",
            "5\n"
          ]
        }
      ]
    },
    {
      "cell_type": "markdown",
      "source": [
        "CHALLENGE: Write a Python program that prints all the numbers from 0 to 6 except 3 and 6"
      ],
      "metadata": {
        "id": "8Srp61YIBBnW"
      }
    },
    {
      "cell_type": "code",
      "source": [
        "list_of_numbers = []\n",
        "\n",
        "for i in range(0, 7):\n",
        "    list_of_numbers.append(i)\n",
        "print(list_of_numbers)   \n",
        "print(0,1,2,4,5)"
      ],
      "metadata": {
        "id": "XkNiPKvBBUof",
        "outputId": "36ffd3a3-4998-4605-df6e-34cf9176550e",
        "colab": {
          "base_uri": "https://localhost:8080/"
        }
      },
      "execution_count": 51,
      "outputs": [
        {
          "output_type": "stream",
          "name": "stdout",
          "text": [
            "[0, 1, 2, 3, 4, 5, 6]\n",
            "0 1 2 4 5\n"
          ]
        }
      ]
    },
    {
      "cell_type": "markdown",
      "source": [
        "Challenge: Write a Python program which iterates the integers from 1 to 50. For multiples of three print \"Fizz\" instead of the number and for the multiples of five print \"Buzz\". For numbers which are multiples of both three and five print \"FizzBuzz\"."
      ],
      "metadata": {
        "id": "tKAr-Fu7BVka"
      }
    },
    {
      "cell_type": "code",
      "source": [
        "for i in range(1, 50):\n",
        "\n",
        "    if i % 3 :\n",
        "       print(\"Buzz\")\n",
        "    elif i % 5:\n",
        "       print(\"FizzBuzz\")\n",
        "    "
      ],
      "metadata": {
        "id": "i1EcTWQWGhgG",
        "outputId": "eeca8118-749f-4827-a1d4-01e037107c39",
        "colab": {
          "base_uri": "https://localhost:8080/"
        }
      },
      "execution_count": 71,
      "outputs": [
        {
          "output_type": "stream",
          "name": "stdout",
          "text": [
            "Buzz\n",
            "Buzz\n",
            "FizzBuzz\n",
            "Buzz\n",
            "Buzz\n",
            "FizzBuzz\n",
            "Buzz\n",
            "Buzz\n",
            "FizzBuzz\n",
            "Buzz\n",
            "Buzz\n",
            "FizzBuzz\n",
            "Buzz\n",
            "Buzz\n",
            "Buzz\n",
            "Buzz\n",
            "FizzBuzz\n",
            "Buzz\n",
            "Buzz\n",
            "FizzBuzz\n",
            "Buzz\n",
            "Buzz\n",
            "FizzBuzz\n",
            "Buzz\n",
            "Buzz\n",
            "FizzBuzz\n",
            "Buzz\n",
            "Buzz\n",
            "Buzz\n",
            "Buzz\n",
            "FizzBuzz\n",
            "Buzz\n",
            "Buzz\n",
            "FizzBuzz\n",
            "Buzz\n",
            "Buzz\n",
            "FizzBuzz\n",
            "Buzz\n",
            "Buzz\n",
            "FizzBuzz\n",
            "Buzz\n",
            "Buzz\n",
            "Buzz\n",
            "Buzz\n",
            "FizzBuzz\n",
            "Buzz\n"
          ]
        }
      ]
    },
    {
      "cell_type": "markdown",
      "source": [
        "Challenge: Write a program to accept a number from 1 to 7 and display the name of the day like 1 for Sunday , 2 for Monday and so on.\n"
      ],
      "metadata": {
        "id": "vrbu8N-GHZFW"
      }
    },
    {
      "cell_type": "code",
      "source": [
        "for i in range(1, 8):\n",
        "\n",
        "    if i == 1 :\n",
        "       print(\"Sunday\")\n",
        "    elif i == 2 :\n",
        "       print(\"Monday\")\n",
        "       \n",
        "    elif i == 5 :\n",
        "       print(\"Thursday\")\n",
        "    elif i == 3 :\n",
        "       print(\"Tuesday\")\n",
        "    elif i == 4 :\n",
        "       print(\"Wednesday\")\n",
        "    \n",
        "    elif i == 6 :\n",
        "       print(\"friday\")\n",
        "    elif i == 7 :\n",
        "       print(\"saturday\")"
      ],
      "metadata": {
        "id": "Mk2QxZ7KHcTm",
        "outputId": "bc0cd657-0811-476b-87b6-e4746b448418",
        "colab": {
          "base_uri": "https://localhost:8080/"
        }
      },
      "execution_count": 79,
      "outputs": [
        {
          "output_type": "stream",
          "name": "stdout",
          "text": [
            "Sunday\n",
            "Monday\n",
            "Tuesday\n",
            "Wednesday\n",
            "Thursday\n",
            "friday\n",
            "saturday\n"
          ]
        }
      ]
    },
    {
      "cell_type": "markdown",
      "source": [
        "**WHILE LOOPS**"
      ],
      "metadata": {
        "id": "JpxO44OgJaCO"
      }
    },
    {
      "cell_type": "markdown",
      "source": [
        "A while loop allows you to repeat the execution of a group of statements as long as a condition is true (that is, as long as the condition has the value True).\n"
      ],
      "metadata": {
        "id": "rCKpf9AMJgLc"
      }
    },
    {
      "cell_type": "markdown",
      "source": [
        "The execution of this while control structure is as follows:\n",
        "\n",
        "Python evaluates the condition:\n",
        "- if the result is True, the body of the loop is executed. After the loop body is executed, the process is repeated (the condition is evaluated again, and if true, the loop body is executed again) over and over again as long as the condition is true.\n",
        "- if the result is False, the body of the loop is not executed and execution of the rest of the program continues.\n",
        "\n",
        "\n",
        "The variable or variables that appear in the condition are often called control variables. Control variables must be defined before the while loop and modified in the while loop."
      ],
      "metadata": {
        "id": "IsmnFc_nJhGe"
      }
    },
    {
      "cell_type": "code",
      "source": [
        "i = 1\n",
        "while i <= 3:\n",
        "    print(i)\n",
        "    i += 1\n",
        "print(\"Program finished\")"
      ],
      "metadata": {
        "id": "PGf1qwBPJq5M",
        "outputId": "52303156-8ee5-4084-c92d-15ef119760a3",
        "colab": {
          "base_uri": "https://localhost:8080/"
        }
      },
      "execution_count": 80,
      "outputs": [
        {
          "output_type": "stream",
          "name": "stdout",
          "text": [
            "1\n",
            "2\n",
            "3\n",
            "Program finished\n"
          ]
        }
      ]
    },
    {
      "cell_type": "code",
      "source": [
        "\n",
        "i = 1\n",
        "while i <= 50:\n",
        "    print(i)\n",
        "    i = 3 * i + 1\n",
        "print(\"Program finished\")"
      ],
      "metadata": {
        "id": "hSEkaMUfJ3dP",
        "outputId": "9e549700-2568-467e-b0cb-b190af3394ae",
        "colab": {
          "base_uri": "https://localhost:8080/"
        }
      },
      "execution_count": 81,
      "outputs": [
        {
          "output_type": "stream",
          "name": "stdout",
          "text": [
            "1\n",
            "4\n",
            "13\n",
            "40\n",
            "Program finished\n"
          ]
        }
      ]
    },
    {
      "cell_type": "code",
      "source": [
        "number = int(input(\"Enter a positive number: \"))\n",
        "while number < 0:\n",
        "    print(\"You have entered a negative number! Please try again\")\n",
        "    number = int(input(\"Enter a positive number: \"))\n",
        "print(\"Thank you for your collaboration\")\n"
      ],
      "metadata": {
        "id": "gc2gMTTuKWfM",
        "outputId": "6c6c7618-9515-4017-cf39-e89760b6f891",
        "colab": {
          "base_uri": "https://localhost:8080/"
        }
      },
      "execution_count": 2,
      "outputs": [
        {
          "output_type": "stream",
          "name": "stdout",
          "text": [
            "Enter a positive number: 3\n",
            "Thank you for your collaboration\n"
          ]
        }
      ]
    },
    {
      "cell_type": "markdown",
      "source": [
        "Using while loop and if statement, iterate through the list and if there is a 100, print it with its index number. i.e.: \"There is a 100 at index no: 5\""
      ],
      "metadata": {
        "id": "2OegJAH3LNDQ"
      }
    },
    {
      "cell_type": "code",
      "source": [
        "number = int(input(\"There is a 100 at index no: 5\"))\n",
        "while number == 100:\n",
        "    print(\"You have entered a number higuer 100! Please try again\")\n",
        "    number = int(input(\"Enter a 100 number: \"))\n",
        "print(\"Thank you for your collaboration\")"
      ],
      "metadata": {
        "id": "xEpDHv5jLcTe",
        "outputId": "e9e7cd1f-447b-4987-d770-3d016bcaaefd",
        "colab": {
          "base_uri": "https://localhost:8080/"
        }
      },
      "execution_count": 7,
      "outputs": [
        {
          "output_type": "stream",
          "name": "stdout",
          "text": [
            "There is a 100 at index no: 5123\n",
            "Thank you for your collaboration\n"
          ]
        }
      ]
    },
    {
      "cell_type": "markdown",
      "source": [
        "Using while loop and an if statement write a function named name_adder which appends all the elements in a list to a new list unless the element is an empty string: \"\"."
      ],
      "metadata": {
        "id": "_utcM51BLpTm"
      }
    },
    {
      "cell_type": "code",
      "source": [
        "number = int(input(\"I Think it is a list\"))\n",
        "while number == 10:\n",
        "    print(\"You have entered 0! Please try again\")\n",
        "    number = int(input(\"Enter a 1 number: \"))\n",
        "print(\"It is an empty string\")"
      ],
      "metadata": {
        "id": "jO6WgLUCLzlN",
        "outputId": "41ca31c8-eed8-44e0-86a0-8525408700f9",
        "colab": {
          "base_uri": "https://localhost:8080/"
        }
      },
      "execution_count": 13,
      "outputs": [
        {
          "output_type": "stream",
          "name": "stdout",
          "text": [
            "I Think it is a list10\n",
            "You have entered 0! Please try again\n",
            "Enter a 1 number: 1\n",
            "It is an empty string\n"
          ]
        }
      ]
    },
    {
      "cell_type": "markdown",
      "source": [
        "Create a list from 1 to 100, then split this list in two, one with all the multiples of 3 and the other with remaining ones.\n",
        " "
      ],
      "metadata": {
        "id": "iZwv8glHM2_I"
      }
    },
    {
      "cell_type": "code",
      "source": [
        "while number == 2:\n",
        "    print(\"split this list in two please\")\n",
        "    number = int(input(\"Enter a sip number: \"))\n",
        "print(\"jiji\")"
      ],
      "metadata": {
        "id": "MCViSb3PNnrl",
        "outputId": "ed58a668-129b-4097-f136-c76e8f34c4bf",
        "colab": {
          "base_uri": "https://localhost:8080/"
        }
      },
      "execution_count": 21,
      "outputs": [
        {
          "output_type": "stream",
          "name": "stdout",
          "text": [
            "jiji\n"
          ]
        }
      ]
    }
  ]
}