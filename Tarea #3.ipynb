{
  "nbformat": 4,
  "nbformat_minor": 0,
  "metadata": {
    "colab": {
      "name": "Untitled31.ipynb",
      "provenance": [],
      "include_colab_link": true
    },
    "kernelspec": {
      "name": "python3",
      "display_name": "Python 3"
    },
    "language_info": {
      "name": "python"
    }
  },
  "cells": [
    {
      "cell_type": "markdown",
      "metadata": {
        "id": "view-in-github",
        "colab_type": "text"
      },
      "source": [
        "<a href=\"https://colab.research.google.com/github/PilarHS/Python-Classes/blob/main/Tarea%20%233.ipynb\" target=\"_parent\"><img src=\"https://colab.research.google.com/assets/colab-badge.svg\" alt=\"Open In Colab\"/></a>"
      ]
    },
    {
      "cell_type": "markdown",
      "source": [
        "**ACTIVITY 1**"
      ],
      "metadata": {
        "id": "6g1jsYPx61EN"
      }
    },
    {
      "cell_type": "markdown",
      "source": [
        "Let's imagine that we are analyzing a data set that contains the annual sales in dollars of some salespeople who work in our company. We obtain the total annual sales in dollars and we have it assigned to the variable sales_annual_totals. Write a control structure that tells us how much our employee's bonus is going to be.\n",
        "\n",
        "- If the sales are greater than 1,000,000, the bonus will be 20% of the salary \n",
        "\n",
        "- If they are between 700,000 and 1,000,000, the bonus will be 15% of the salary\n",
        "\n",
        "- Between 400,000 and 700,000 the bonus will be 10% of salary\n",
        " \n",
        "- Between 100,00 and 400,000 the bonus will be 5% of salary; and below $100,000 the bonus will be 1% of salary.\n",
        "\n",
        "Write your control structure and for now (we'll have more tools later to make this more interesting) print a string saying how much the bonus is going to be."
      ],
      "metadata": {
        "id": "lxcUgVIT64BS"
      }
    },
    {
      "cell_type": "markdown",
      "source": [
        "Optional challenge: Add a variable salary that is the salary of your employee and add the bonus percentage to that variable depending on the condition that is met. Then to the end it prints an interpolated string that says something like \"Congratulations, your salary is x; your bonus is x; and the total salary with the bonus included is x\". For this to work you must also add a variable where you store the bonus amount!"
      ],
      "metadata": {
        "id": "aQJ6Ghps8qzj"
      }
    },
    {
      "cell_type": "code",
      "source": [
        "total_annual_sales = 5000\n",
        "\n",
        "if total_annual_sales > 10000000:\n",
        "    print(\"20% Salary\")\n",
        "elif total_annual_sales >= 7000000:\n",
        "    print(\"15% Salary\")\n",
        "elif total_annual_sales < 1000000:\n",
        "    print(\"15% Salary\")\n",
        "elif total_annual_sales <= 700000:\n",
        "    print(\"10% Salary\")\n",
        "elif total_annual_sales >= 100000:\n",
        "    print(\"5% Salary\")\n",
        "elif total_annual_sales <= 400000:\n",
        "    print(\"5% Salary\")   \n",
        "else:\n",
        "    print(\"1% Salary\")\n"
      ],
      "metadata": {
        "id": "IgXk8PNo84E8",
        "outputId": "35e8e534-d513-4e71-933a-5398a104470a",
        "colab": {
          "base_uri": "https://localhost:8080/"
        }
      },
      "execution_count": 13,
      "outputs": [
        {
          "output_type": "stream",
          "name": "stdout",
          "text": [
            "15% Salary\n"
          ]
        }
      ]
    },
    {
      "cell_type": "code",
      "source": [
        "total_Salary = 500\n",
        "\n",
        "if total_Salary > 1000:\n",
        "    print(\"20% Bonus\")\n",
        "elif total_annual_sales >= 7000:\n",
        "    print(\"15% Bonus\")\n",
        "elif total_annual_sales < 10000:\n",
        "    print(\"15% Bonus\")\n",
        "elif total_annual_sales <= 7000:\n",
        "    print(\"10% Bonus\")\n",
        "elif total_annual_sales >= 10000:\n",
        "    print(\"5% Bonus\")\n",
        "elif total_annual_sales <= 400000:\n",
        "    print(\"5% Bonus\")   \n",
        "else:\n",
        "    print(\"1% Bonus\")\n"
      ],
      "metadata": {
        "id": "o_y28I1D9AE3",
        "outputId": "e99cb346-fd37-4cc7-aced-b174217f5a89",
        "colab": {
          "base_uri": "https://localhost:8080/"
        }
      },
      "execution_count": 34,
      "outputs": [
        {
          "output_type": "stream",
          "name": "stdout",
          "text": [
            "15% Bonus\n"
          ]
        }
      ]
    },
    {
      "cell_type": "markdown",
      "source": [
        "**ACTIVITY 2**"
      ],
      "metadata": {
        "id": "FAWOKNoh9c1W"
      }
    },
    {
      "cell_type": "markdown",
      "source": [
        "Powers of 2 are extremely important in the computational world. Since computers work with binary language, much of the internal workings of computers work with powers of 2. Here is a small sample of the first few powers of 2:\n"
      ],
      "metadata": {
        "id": "mPKwHGMH9e1v"
      }
    },
    {
      "cell_type": "markdown",
      "source": [
        "\n",
        "- 2^0 = 1\n",
        "\n",
        "- 2^1 = 2\n",
        "-2^2 = 4\n",
        "-2^3 = 8\n",
        "-2^4 = 16\n",
        "-2^5 = 32\n",
        "-2^6 = 64\n",
        "-2^7 = 128\n",
        "-2^8 = 256"
      ],
      "metadata": {
        "id": "uX4LhGTA92NI"
      }
    },
    {
      "cell_type": "markdown",
      "source": [
        "Your challenge is to complete the power_of_two function. This function takes the exponent (the small number next to 2) and returns the result of 2 raised to that power. The detail is that you cannot use any operator or function that computes exponents (such as ** or np.power), but you have to perform the calculation using 1 if block and 1 for loop. Complete the code below.\n"
      ],
      "metadata": {
        "id": "sXddLKMQ-E3e"
      }
    },
    {
      "cell_type": "code",
      "source": [
        "def power_of_two(n):\n",
        "    \n",
        "    \"\"\"Return true if n is a power of two.\"\"\"\n",
        "      \n",
        "    if n <= 0:\n",
        "      return False\n",
        "    else:    \n",
        "      return n & (n - 1) == 0\n",
        "n= int(input('enter a number: '))\n",
        "if power_of_two(n):\n",
        "    print('{} is a power of two.'.format(n))\n",
        "else:\n",
        "    print('{} is not a power of two.'.format(n))\n"
      ],
      "metadata": {
        "id": "tLzi5Mey-Lsj",
        "outputId": "35306a42-38bd-43ac-e886-3f77e7d7533e",
        "colab": {
          "base_uri": "https://localhost:8080/"
        }
      },
      "execution_count": 30,
      "outputs": [
        {
          "output_type": "stream",
          "name": "stdout",
          "text": [
            "enter a number: 40\n",
            "40 is not a power of two.\n"
          ]
        }
      ]
    },
    {
      "cell_type": "code",
      "source": [
        ""
      ],
      "metadata": {
        "id": "vVk4bbaZ-RWP"
      },
      "execution_count": null,
      "outputs": []
    }
  ]
}